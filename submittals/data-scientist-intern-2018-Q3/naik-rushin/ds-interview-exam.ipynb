{
 "cells": [
  {
   "cell_type": "markdown",
   "metadata": {},
   "source": [
    "<div class=\"clearfix\" style=\"padding: 10px; padding-left: 0px\">\n",
    "<a href=\"http://bombora.com\"><img src=\"https://app.box.com/shared/static/e0j9v1xjmubit0inthhgv3llwnoansjp.png\" width=\"200px\" class=\"pull-right\" style=\"display: inline-block; margin: 5px; vertical-align: middle;\"></a>\n",
    "<h1> Bombora Data Science: <br> *Interview Exam* </h1>\n",
    "</div>\n",
    "\n",
    "<img width=\"200px\" src=\"https://app.box.com/shared/static/15slg1mvjd1zldbg3xkj9picjkmhzpa5.png\">"
   ]
  },
  {
   "cell_type": "markdown",
   "metadata": {},
   "source": [
    "---\n",
    "# Welcome\n",
    "\n",
    "Welcome! This notebook contains interview exam questions referenced in the *Instructions* section in the `README.md`—please read that first, *before* attempting to answer questions here.\n",
    "\n",
    "<div class=\"alert alert-info\" role=\"alert\" style=\"margin: 10px\">\n",
    "<p style=\"font-weight:bold\">ADVICE</p>\n",
    "<p>*Do not* read these questions, and panic, *before* reading the instructions in `README.md`.</p>\n",
    "</div>\n",
    "\n",
    "<div class=\"alert alert-warning\" role=\"alert\" style=\"margin: 10px\">\n",
    "<p style=\"font-weight:bold\">WARNING</p>\n",
    "\n",
    "<p>If using <a href=\"https://try.jupyter.org\">try.jupyter.org</a> do not rely on the server for anything you want to last - your server will be <span style=\"font-weight:bold\">deleted after 10 minutes of inactivity</span>. Save often and rember download notebook when you step away (you can always re-upload and start again)!</p>\n",
    "</div>\n",
    "\n",
    "\n",
    "## Have fun!\n",
    "\n",
    "Regardless of outcome, getting to know you is important. Give it your best shot and we'll look forward to following up!"
   ]
  },
  {
   "cell_type": "markdown",
   "metadata": {},
   "source": [
    "# Exam Questions"
   ]
  },
  {
   "cell_type": "markdown",
   "metadata": {},
   "source": [
    "## 1. Algo + Data Structures"
   ]
  },
  {
   "cell_type": "markdown",
   "metadata": {},
   "source": [
    "# <font color=green>SOLVED</font>"
   ]
  },
  {
   "cell_type": "markdown",
   "metadata": {},
   "source": [
    "### Q 1.1: Fibionacci\n",
    "![fib image](https://upload.wikimedia.org/wikipedia/commons/thumb/9/93/Fibonacci_spiral_34.svg/200px-Fibonacci_spiral_34.svg.png)"
   ]
  },
  {
   "cell_type": "markdown",
   "metadata": {},
   "source": [
    "#### Q 1.1.1\n",
    "Given $n$ where $n \\in \\mathbb{N}$ (i.e., $n$ is an integer and $n > 0$), write a function `fibonacci(n)` that computes the Fibonacci number $F_n$, where $F_n$ is defined by the recurrence relation:\n",
    "\n",
    "$$ F_n = F_{n-1} + F_{n-2}$$\n",
    "\n",
    "with initial conditions of:\n",
    "\n",
    "$$ F_1 = 1,  F_2 = 1$$"
   ]
  },
  {
   "cell_type": "code",
   "execution_count": 1,
   "metadata": {
    "collapsed": false
   },
   "outputs": [
    {
     "name": "stdout",
     "output_type": "stream",
     "text": [
      "Fibonacci of 1 is 1\n",
      "Fibonacci of 2 is 1\n",
      "Fibonacci of 3 is 2\n",
      "Fibonacci of 4 is 3\n",
      "Fibonacci of 5 is 5\n",
      "Fibonacci of 6 is 8\n",
      "Fibonacci of 7 is 13\n",
      "Fibonacci of 8 is 21\n",
      "Fibonacci of 9 is 34\n",
      "Fibonacci of 10 is 55\n"
     ]
    }
   ],
   "source": [
    "'''\n",
    "This method is called 'Iterative Approach'. Here we use the loops to compute the fibonacci number. \n",
    "'''\n",
    "def fibonacci(n):\n",
    "    # Handle the base case\n",
    "    if n <= 1:\n",
    "        return n\n",
    "    num1,num2 = 1,1\n",
    "    \n",
    "    # Iterative for loop\n",
    "    for _ in range(2,n):\n",
    "        # Update the valus of num1 and num2 \n",
    "        num1, num2 = num2, num1+num2\n",
    "    \n",
    "    return num2\n",
    "\n",
    "def main():\n",
    "    # Test Cases:\n",
    "    test_cases = [1,2,3,4,5,6,7,8,9,10]\n",
    "    \n",
    "    # Call the function for all the test cases and verify\n",
    "    for n in test_cases:\n",
    "        ans = fibonacci(n)\n",
    "        print('Fibonacci of {} is {}'.format(n, ans))\n",
    "        \n",
    "# Calling the main driver function\n",
    "main()"
   ]
  },
  {
   "cell_type": "markdown",
   "metadata": {},
   "source": [
    "#### Q 1.1.2\n",
    "What's the complexity of your implementation?"
   ]
  },
  {
   "cell_type": "markdown",
   "metadata": {},
   "source": [
    "#### Time complexity: O(n)\n",
    "According to number of iterations required in the loop, we would need to iterate n-2 times. Thus, as value of n \n",
    "increases the computation will increase linearly. So, the time complexity would be O(n).\n",
    "\n",
    "#### Space Complexity: O(1)\n",
    "We need two integers to store the previous two numbers. The space occupied would remain constant here. So, the space complexity\n",
    "of the program would be O(1).\n"
   ]
  },
  {
   "cell_type": "markdown",
   "metadata": {},
   "source": [
    "#### Q 1.1.3\n",
    "Consider an alternative implementation to compute Fibonacci number $F_n$ and write a new function, `fibonacci2(n)`."
   ]
  },
  {
   "cell_type": "code",
   "execution_count": 2,
   "metadata": {
    "collapsed": false
   },
   "outputs": [
    {
     "name": "stdout",
     "output_type": "stream",
     "text": [
      "Fibonacci of 1 is 1\n",
      "Fibonacci of 2 is 1\n",
      "Fibonacci of 3 is 2\n",
      "Fibonacci of 4 is 3\n",
      "Fibonacci of 5 is 5\n",
      "Fibonacci of 6 is 8\n",
      "Fibonacci of 7 is 13\n",
      "Fibonacci of 8 is 21\n",
      "Fibonacci of 9 is 34\n",
      "Fibonacci of 10 is 55\n"
     ]
    }
   ],
   "source": [
    "'''\n",
    "This method is called 'Recursive Approach'. Here, the function makes repeatitive calls to iteself. \n",
    "        \n",
    "'''\n",
    "def fibonacci2(n):\n",
    "    # Handling the base case\n",
    "    if n == 0:\n",
    "        return 0\n",
    "    if n == 1:\n",
    "        return 1\n",
    "    \n",
    "    # Make recursive call the itself\n",
    "    return fibonacci(n-1) + fibonacci(n-2)\n",
    "    \n",
    "def main():\n",
    "    # Test Cases:\n",
    "    test_cases = [1,2,3,4,5,6,7,8,9,10]\n",
    "    \n",
    "    # Call function for all test cases and verify\n",
    "    for n in test_cases:\n",
    "        ans = fibonacci(n)\n",
    "        print('Fibonacci of {} is {}'.format(n, ans))\n",
    "\n",
    "# Calling the main driver function\n",
    "main()\n",
    "    "
   ]
  },
  {
   "cell_type": "markdown",
   "metadata": {},
   "source": [
    "#### Q 1.1.4\n",
    "What's the complexity of your implementation?"
   ]
  },
  {
   "cell_type": "markdown",
   "metadata": {},
   "source": [
    "#### Time Complexity: O(2^n)\n",
    "The computation that we need to do increases expotentially. Because, we need to make a recursive call over the last two numbers.\n",
    "For example, to calculate O(n) we will need to calculate O(n-1) + O(n-2). O(n-2) will again make a call to compute O(n-3) \n",
    "and O(n-4) and so on. Thus, the computations will double as we increase the value of n.\n",
    "\n",
    "\n",
    "#### Space Complexity: O(n)\n",
    "We will not need to store any values.The computation happens dynamically using the recursive calls. But memory stack is used as a \n",
    "function call stack, which stores sequence of functions that need to be performed. So, the space complexity is O(n).\n",
    " "
   ]
  },
  {
   "cell_type": "markdown",
   "metadata": {},
   "source": [
    "#### Q 1.1.5\n",
    "What are some examples of optimizations that could improve computational performance?\n"
   ]
  },
  {
   "cell_type": "markdown",
   "metadata": {},
   "source": [
    "### Optimization Methods:\n",
    "\n",
    "#### 1. Using Memoization in Recursive Calls:\n",
    "\n",
    "Time Complexity: O(n)\n",
    "\n",
    "A memory cache can be used which can store the previous computation of fibonacci sequence. This will help to avoid the redundant\n",
    "calculations that are done for the same number. This approach uses dynamic programming. It would help to make the function more effecient. The cache would be checked first before computing values again. The new time complexity would be O(n) as all the values would be computed only once.\n",
    "\n",
    "Here a memory cache can be a dictionary or an array. \n",
    "\n",
    "#### 2. Using Matrix :\n",
    "Time Complexity: O(logn)\n",
    "\n",
    "A method called 'Matrix Expotentiation' can be used to reduce the computation effiecieny to O(log(n)). It the uses the base matrix\n",
    "which can be represented as follows:<br>\n",
    "    m = [[1,0],\n",
    "         [1,1]]<br>\n",
    "Using repeating squares over the matrix 'm' (for example n times, m^n), the result matrix formed would give the value of \n",
    "fibonnaci number.\n",
    "\n"
   ]
  },
  {
   "cell_type": "markdown",
   "metadata": {},
   "source": [
    "### Q 1.2: Linked List\n",
    "![ll img](https://upload.wikimedia.org/wikipedia/commons/thumb/6/6d/Singly-linked-list.svg/500px-Singly-linked-list.svg.png)"
   ]
  },
  {
   "cell_type": "markdown",
   "metadata": {},
   "source": [
    "#### Q 1.2.1\n",
    "Consider a [singly linked list](https://en.wikipedia.org/wiki/Linked_list), $L$. Write a function `is_palindrome(L)` that detects if $L$ is a [palindrome](https://en.wikipedia.org/wiki/Palindrome), by returning a bool, `True` or `False`.\n"
   ]
  },
  {
   "cell_type": "markdown",
   "metadata": {},
   "source": [
    "#### Q 1.2.2\n",
    "What is the complexity of your implementation?"
   ]
  },
  {
   "cell_type": "markdown",
   "metadata": {},
   "source": [
    "#### Q 1.2.3\n",
    "Consider an alternative implementation to detect if L is a palindrome and write a new function, `is_palindrome2(L)`."
   ]
  },
  {
   "cell_type": "markdown",
   "metadata": {},
   "source": [
    "#### Q 1.2.4\n",
    "What's the complexity of this implementation?\n"
   ]
  },
  {
   "cell_type": "markdown",
   "metadata": {},
   "source": [
    "#### Q 1.2.5 \n",
    "What are some examples of optimizations that could improve computational performance?\n"
   ]
  },
  {
   "cell_type": "markdown",
   "metadata": {},
   "source": [
    "## 2. Prob + Stats"
   ]
  },
  {
   "cell_type": "markdown",
   "metadata": {},
   "source": [
    "# <font color=green>SOLVED</font>"
   ]
  },
  {
   "cell_type": "markdown",
   "metadata": {},
   "source": [
    "### Q 2.1: Finding $\\pi$ in a random uniform?\n",
    "![pi pie img](http://core2.staticworld.net/images/article/2016/03/pi-day-intro-100649273-carousel.idge.jpeg)\n",
    "\n",
    "Given a uniform random generator $[0,1)$ (e.g., use your language's standard libary to generate random value), write a a function `compute_pi` to compute [$\\pi$](https://en.wikipedia.org/wiki/Pi)."
   ]
  },
  {
   "cell_type": "markdown",
   "metadata": {},
   "source": [
    "### The approach used here to find $\\pi$ deals with area of circle and area of square. The explanation of the solutions is as follows:\n",
    "\n",
    "1. Take a circle of radius 1 with center (0,0) and a square enclosing that circle. The random number generator is restricted to the values between 0 and 1. That's all we need here.\n",
    "<br>\n",
    "2. The function is made modular so that the user can decide how many random numbers are to be used to approximate the value of $\\pi$\n",
    "<br>\n",
    "3. Now, we will focus on the positive values from 0 to 1 i.e. on the positive quarter of the circle and square which lies in first quadrant. So, all random points we get would be positive and will be in first quandrant.\n",
    "<br>\n",
    "4. A 'for' loop will generate random point. Number for points that are found inside the circle would be calculated. This is done \n",
    "by using Pythagoras law. \n",
    "<br>\n",
    "5. Once all points are found, now we will use area formula. \n",
    "\n",
    "   a_square = area of square in 1st quandrant = 1 <br>\n",
    "   a_circle = area of quarter circle present in 1st quandrant = ($\\pi$ $*$ radius $*$ radius)/ 4\n",
    "   \n",
    "   num of points inside circle/ num of total points in square =  a_circle/ a_square\n",
    "   \n",
    "   Now, a_square and radius is 1. \n",
    "   \n",
    "   num of points inside circle / num of total points in square = $\\pi$ / 4\n",
    "   \n",
    "   Finally,\n",
    "   $\\pi$ = (4 $*$ num of points inside circle) / num of total points in square\n",
    "   \n",
    "   \n",
    "#### The accuracy of the function gradually increases as we increase the number of random points that are being considered."
   ]
  },
  {
   "cell_type": "code",
   "execution_count": 3,
   "metadata": {
    "collapsed": false
   },
   "outputs": [
    {
     "name": "stdout",
     "output_type": "stream",
     "text": [
      "Using 10 unifrom random points, the value of PI was found 2.4.\n",
      "Using 100 unifrom random points, the value of PI was found 3.68.\n",
      "Using 1000 unifrom random points, the value of PI was found 3.096.\n",
      "Using 10000 unifrom random points, the value of PI was found 3.122.\n",
      "Using 100000 unifrom random points, the value of PI was found 3.13544.\n"
     ]
    }
   ],
   "source": [
    "#import python libraries required for the execution of the program\n",
    "import random \n",
    "\n",
    "def compute_pi(n):\n",
    "    radius = 1\n",
    "    # Take a variable to store how many points are found inside the circle     \n",
    "    points_inside = 0\n",
    "    # Take a variable to decide the total number of random numbers to generate\n",
    "    total_points = n\n",
    "    \n",
    "    for _ in range(n):\n",
    "        # random() gives the random floating point number in the range [0.0, 1.0).\n",
    "        # X and Y cordinates are taken randomly\n",
    "        cord_x, cord_y = random.random(), random.random()\n",
    "        \n",
    "        # Check if they are inside the circle.\n",
    "        # Check against '1' because of the pythagoras law\n",
    "        if (cord_x**2 + cord_y**2) <= 1:\n",
    "            points_inside += 1\n",
    "        \n",
    "    # based on ratio of area of circle and area of square\n",
    "    value_of_pi = (points_inside * 4) / total_points\n",
    "    \n",
    "    return value_of_pi\n",
    "\n",
    "def main():\n",
    "    test_cases = [10,100,1000,10000,100000]\n",
    "    for num_of_points in test_cases:\n",
    "        print('Using {} unifrom random points, the value of PI was found {}.'.format(num_of_points,compute_pi(num_of_points)))\n",
    "        \n",
    "main()"
   ]
  },
  {
   "cell_type": "markdown",
   "metadata": {},
   "source": [
    "# <font color=green>THANK YOU</font>"
   ]
  },
  {
   "cell_type": "markdown",
   "metadata": {},
   "source": [
    "### Q 2.2: Making a 6-side die roll a 7?\n",
    "\n",
    "![reno die image](http://thumbs.ebaystatic.com/images/g/IQ8AAOSwvzRXyagD/s-l225.jpg)\n",
    "\n",
    "Using a single 6-side die, how can you generate a random number between 1 - 7?"
   ]
  },
  {
   "cell_type": "markdown",
   "metadata": {},
   "source": [
    "### Q 2.3: Is normality uniform?\n",
    "\n",
    "![normal and uniform distributions](https://qph.ec.quoracdn.net/main-qimg-f6ed71ed1d0059760fb63db384dcbcca-c)\n",
    "\n",
    "Given draws from a normal distribution with known parameters, how can you simulate draws from a uniform distribution?"
   ]
  },
  {
   "cell_type": "markdown",
   "metadata": {},
   "source": [
    "### Q 2.4: Should you pay or should you go?\n",
    "\n",
    "![coin flip](https://lh5.ggpht.com/iwD6MnHeHVAXNBgrO7r4N9MQxxYi6wT9vb0Mqu905zTnNlBciONAA98BqafyjzC06Q=w300)\n",
    "\n",
    "Let’s say we play a game where I keep flipping a coin until I get heads. If the first time I get heads is on the nth coin, then I pay you $2^{(n-1)}$ US dollars. How much would you pay me to play this game? Explain."
   ]
  },
  {
   "cell_type": "markdown",
   "metadata": {},
   "source": [
    "### Q 2.5: Uber vs. Lyft\n",
    "\n",
    "![uber vs lyft](http://usiaffinity.typepad.com/.a/6a01347fc1cb08970c01bb0876bcbe970d-pi)\n",
    "\n",
    "You request 2 UberX’s and 3 Lyfts. If the time that each takes to reach you is IID, what is the probability that all the Lyfts arrive first? What is the probability that all the UberX’s arrive first?"
   ]
  }
 ],
 "metadata": {
  "kernelspec": {
   "display_name": "Python 3",
   "language": "python",
   "name": "python3"
  },
  "language_info": {
   "codemirror_mode": {
    "name": "ipython",
    "version": 3
   },
   "file_extension": ".py",
   "mimetype": "text/x-python",
   "name": "python",
   "nbconvert_exporter": "python",
   "pygments_lexer": "ipython3",
   "version": "3.6.0"
  }
 },
 "nbformat": 4,
 "nbformat_minor": 1
}
