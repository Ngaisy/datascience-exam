{
 "cells": [
  {
   "cell_type": "markdown",
   "metadata": {},
   "source": [
    "<div class=\"clearfix\" style=\"padding: 10px; padding-left: 0px\">\n",
    "<a href=\"http://bombora.com\"><img src=\"https://app.box.com/shared/static/e0j9v1xjmubit0inthhgv3llwnoansjp.png\" width=\"200px\" class=\"pull-right\" style=\"display: inline-block; margin: 5px; vertical-align: middle;\"></a>\n",
    "<h1> Bombora Data Science: <br> *Interview Exam* </h1>\n",
    "</div>\n",
    "\n",
    "<img width=\"200px\" src=\"https://app.box.com/shared/static/15slg1mvjd1zldbg3xkj9picjkmhzpa5.png\">"
   ]
  },
  {
   "cell_type": "markdown",
   "metadata": {},
   "source": [
    "---\n",
    "# Welcome\n",
    "\n",
    "Welcome! This notebook contains interview exam questions referenced in the *Instructions* section in the `README.md`—please read that first, *before* attempting to answer questions here.\n",
    "\n",
    "<div class=\"alert alert-info\" role=\"alert\" style=\"margin: 10px\">\n",
    "<p style=\"font-weight:bold\">ADVICE</p>\n",
    "<p>*Do not* read these questions, and panic, *before* reading the instructions in `README.md`.</p>\n",
    "</div>\n",
    "\n",
    "<div class=\"alert alert-warning\" role=\"alert\" style=\"margin: 10px\">\n",
    "<p style=\"font-weight:bold\">WARNING</p>\n",
    "\n",
    "<p>If using <a href=\"https://try.jupyter.org\">try.jupyter.org</a> do not rely on the server for anything you want to last - your server will be <span style=\"font-weight:bold\">deleted after 10 minutes of inactivity</span>. Save often and rember download notebook when you step away (you can always re-upload and start again)!</p>\n",
    "</div>\n",
    "\n",
    "\n",
    "## Have fun!\n",
    "\n",
    "Regardless of outcome, getting to know you is important. Give it your best shot and we'll look forward to following up!"
   ]
  },
  {
   "cell_type": "markdown",
   "metadata": {},
   "source": [
    "# Exam Questions"
   ]
  },
  {
   "cell_type": "markdown",
   "metadata": {},
   "source": [
    "# Attempt to answer most of the question in Probability part is made because of availability of plenty of time. Please have a look"
   ]
  },
  {
   "cell_type": "markdown",
   "metadata": {},
   "source": [
    "## 1. Algo + Data Structures"
   ]
  },
  {
   "cell_type": "markdown",
   "metadata": {},
   "source": [
    "### Q 1.1: Fibionacci\n",
    "![fib image](https://upload.wikimedia.org/wikipedia/commons/thumb/9/93/Fibonacci_spiral_34.svg/200px-Fibonacci_spiral_34.svg.png)"
   ]
  },
  {
   "cell_type": "markdown",
   "metadata": {},
   "source": [
    "#### Q 1.1.1\n",
    "Given $n$ where $n \\in \\mathbb{N}$ (i.e., $n$ is an integer and $n > 0$), write a function `fibonacci(n)` that computes the Fibonacci number $F_n$, where $F_n$ is defined by the recurrence relation:\n",
    "\n",
    "$$ F_n = F_{n-1} + F_{n-2}$$\n",
    "\n",
    "with initial conditions of:\n",
    "\n",
    "$$ F_1 = 1,  F_2 = 1$$"
   ]
  },
  {
   "cell_type": "code",
   "execution_count": 262,
   "metadata": {},
   "outputs": [],
   "source": [
    "import numpy as np\n",
    "def fibonacci(n):\n",
    "    # input : n = which fibonacci number to return\n",
    "    # output: nth fibonacci number\n",
    "    \n",
    "    #Check if input is natural number or not\n",
    "    if n<=0 or not isinstance(n, int):\n",
    "        raise ValueError('Invalid input: n must be a natural number')\n",
    "\n",
    "    # return 1 if n=1 or n=2, nothing to compute\n",
    "    if n==1:\n",
    "        return 1\n",
    "    if n==2:\n",
    "        return 2\n",
    "    \n",
    "    F1 = 1\n",
    "    F2 = 1\n",
    "    \n",
    "    #loop to n and compute ith fibonacci on the go\n",
    "    for i in range(2,n):\n",
    "#        print(i)\n",
    "        F = F1 + F2\n",
    "    #store previous 2 values in temprary variables\n",
    "        F2 = F1\n",
    "        F1 = F\n",
    "        \n",
    "    return int(F)"
   ]
  },
  {
   "cell_type": "code",
   "execution_count": 217,
   "metadata": {},
   "outputs": [
    {
     "ename": "ValueError",
     "evalue": "Invalid input: n must be a natural number",
     "output_type": "error",
     "traceback": [
      "\u001b[0;31m---------------------------------------------------------------------------\u001b[0m",
      "\u001b[0;31mValueError\u001b[0m                                Traceback (most recent call last)",
      "\u001b[0;32m<ipython-input-217-2249d3d2623e>\u001b[0m in \u001b[0;36m<module>\u001b[0;34m()\u001b[0m\n\u001b[0;32m----> 1\u001b[0;31m \u001b[0mfibonacci\u001b[0m\u001b[0;34m(\u001b[0m\u001b[0;36m1.0\u001b[0m\u001b[0;34m)\u001b[0m\u001b[0;34m\u001b[0m\u001b[0m\n\u001b[0m",
      "\u001b[0;32m<ipython-input-216-9d48fa2aa368>\u001b[0m in \u001b[0;36mfibonacci\u001b[0;34m(n)\u001b[0m\n\u001b[1;32m      2\u001b[0m \u001b[0;32mdef\u001b[0m \u001b[0mfibonacci\u001b[0m\u001b[0;34m(\u001b[0m\u001b[0mn\u001b[0m\u001b[0;34m)\u001b[0m\u001b[0;34m:\u001b[0m\u001b[0;34m\u001b[0m\u001b[0m\n\u001b[1;32m      3\u001b[0m     \u001b[0;32mif\u001b[0m \u001b[0mn\u001b[0m\u001b[0;34m<=\u001b[0m\u001b[0;36m0\u001b[0m \u001b[0;32mor\u001b[0m \u001b[0;32mnot\u001b[0m \u001b[0misinstance\u001b[0m\u001b[0;34m(\u001b[0m\u001b[0mn\u001b[0m\u001b[0;34m,\u001b[0m \u001b[0mint\u001b[0m\u001b[0;34m)\u001b[0m\u001b[0;34m:\u001b[0m\u001b[0;34m\u001b[0m\u001b[0m\n\u001b[0;32m----> 4\u001b[0;31m         \u001b[0;32mraise\u001b[0m \u001b[0mValueError\u001b[0m\u001b[0;34m(\u001b[0m\u001b[0;34m'Invalid input: n must be a natural number'\u001b[0m\u001b[0;34m)\u001b[0m\u001b[0;34m\u001b[0m\u001b[0m\n\u001b[0m\u001b[1;32m      5\u001b[0m \u001b[0;31m#         print(\"Invalid input. n must be breater than 0\")\u001b[0m\u001b[0;34m\u001b[0m\u001b[0;34m\u001b[0m\u001b[0m\n\u001b[1;32m      6\u001b[0m \u001b[0;31m#         return -1\u001b[0m\u001b[0;34m\u001b[0m\u001b[0;34m\u001b[0m\u001b[0m\n",
      "\u001b[0;31mValueError\u001b[0m: Invalid input: n must be a natural number"
     ]
    }
   ],
   "source": [
    "fibonacci(1.0)"
   ]
  },
  {
   "cell_type": "code",
   "execution_count": 218,
   "metadata": {},
   "outputs": [
    {
     "ename": "ValueError",
     "evalue": "Invalid input: n must be a natural number",
     "output_type": "error",
     "traceback": [
      "\u001b[0;31m---------------------------------------------------------------------------\u001b[0m",
      "\u001b[0;31mValueError\u001b[0m                                Traceback (most recent call last)",
      "\u001b[0;32m<ipython-input-218-15a7c5be9ef8>\u001b[0m in \u001b[0;36m<module>\u001b[0;34m()\u001b[0m\n\u001b[0;32m----> 1\u001b[0;31m \u001b[0mfibonacci\u001b[0m\u001b[0;34m(\u001b[0m\u001b[0;36m0\u001b[0m\u001b[0;34m)\u001b[0m\u001b[0;34m\u001b[0m\u001b[0m\n\u001b[0m",
      "\u001b[0;32m<ipython-input-216-9d48fa2aa368>\u001b[0m in \u001b[0;36mfibonacci\u001b[0;34m(n)\u001b[0m\n\u001b[1;32m      2\u001b[0m \u001b[0;32mdef\u001b[0m \u001b[0mfibonacci\u001b[0m\u001b[0;34m(\u001b[0m\u001b[0mn\u001b[0m\u001b[0;34m)\u001b[0m\u001b[0;34m:\u001b[0m\u001b[0;34m\u001b[0m\u001b[0m\n\u001b[1;32m      3\u001b[0m     \u001b[0;32mif\u001b[0m \u001b[0mn\u001b[0m\u001b[0;34m<=\u001b[0m\u001b[0;36m0\u001b[0m \u001b[0;32mor\u001b[0m \u001b[0;32mnot\u001b[0m \u001b[0misinstance\u001b[0m\u001b[0;34m(\u001b[0m\u001b[0mn\u001b[0m\u001b[0;34m,\u001b[0m \u001b[0mint\u001b[0m\u001b[0;34m)\u001b[0m\u001b[0;34m:\u001b[0m\u001b[0;34m\u001b[0m\u001b[0m\n\u001b[0;32m----> 4\u001b[0;31m         \u001b[0;32mraise\u001b[0m \u001b[0mValueError\u001b[0m\u001b[0;34m(\u001b[0m\u001b[0;34m'Invalid input: n must be a natural number'\u001b[0m\u001b[0;34m)\u001b[0m\u001b[0;34m\u001b[0m\u001b[0m\n\u001b[0m\u001b[1;32m      5\u001b[0m \u001b[0;31m#         print(\"Invalid input. n must be breater than 0\")\u001b[0m\u001b[0;34m\u001b[0m\u001b[0;34m\u001b[0m\u001b[0m\n\u001b[1;32m      6\u001b[0m \u001b[0;31m#         return -1\u001b[0m\u001b[0;34m\u001b[0m\u001b[0;34m\u001b[0m\u001b[0m\n",
      "\u001b[0;31mValueError\u001b[0m: Invalid input: n must be a natural number"
     ]
    }
   ],
   "source": [
    "fibonacci(0)"
   ]
  },
  {
   "cell_type": "code",
   "execution_count": null,
   "metadata": {},
   "outputs": [],
   "source": [
    "print(\"4th Fibonacci number is = \", fibonacci(4))\n",
    "print(\"10th Fibonacci number is = \",fibonacci(10))"
   ]
  },
  {
   "cell_type": "code",
   "execution_count": 223,
   "metadata": {},
   "outputs": [
    {
     "name": "stdout",
     "output_type": "stream",
     "text": [
      "236 ns ± 1.78 ns per loop (mean ± std. dev. of 7 runs, 1000000 loops each)\n"
     ]
    }
   ],
   "source": [
    "%timeit fibonacci(2)"
   ]
  },
  {
   "cell_type": "code",
   "execution_count": 222,
   "metadata": {},
   "outputs": [
    {
     "name": "stdout",
     "output_type": "stream",
     "text": [
      "1.02 µs ± 3.7 ns per loop (mean ± std. dev. of 7 runs, 1000000 loops each)\n"
     ]
    }
   ],
   "source": [
    "%timeit fibonacci(10)"
   ]
  },
  {
   "cell_type": "markdown",
   "metadata": {},
   "source": [
    "#### Q 1.1.2\n",
    "What's the complexity of your implementation?"
   ]
  },
  {
   "cell_type": "markdown",
   "metadata": {},
   "source": [
    "The complexity of $fibonacci(n)$ is:\n",
    "\n",
    "for n<=1 it is $O(1)$ as it is just a constant without any computations\n",
    "\n",
    "for n>1 it is $O(n)$ as it completes execution in linear time"
   ]
  },
  {
   "cell_type": "markdown",
   "metadata": {},
   "source": [
    "#### Q 1.1.3\n",
    "Consider an alternative implementation to compute Fibonacci number $F_n$ and write a new function, `fibonacci2(n)`."
   ]
  },
  {
   "cell_type": "code",
   "execution_count": 296,
   "metadata": {},
   "outputs": [],
   "source": [
    "def fibonacci2(n):\n",
    "    # input : which fibonacci number to return\n",
    "    # output : nth fibonacci number\n",
    "    \n",
    "    #Check if input is natural number or not\n",
    "    if n<=0 or not isinstance(n, int):\n",
    "        raise ValueError('Invalid input: n must be a natural number')\n",
    "\n",
    "    #return 1 if n=1 or n=2, nothing to compute\n",
    "    if n == 1:\n",
    "        return 1\n",
    "    if n == 2:\n",
    "        return 1\n",
    "    \n",
    "    return fibonacci2(n-1)+fibonacci2(n-2)"
   ]
  },
  {
   "cell_type": "code",
   "execution_count": 264,
   "metadata": {},
   "outputs": [
    {
     "ename": "ValueError",
     "evalue": "Invalid input: n must be a natural number",
     "output_type": "error",
     "traceback": [
      "\u001b[0;31m---------------------------------------------------------------------------\u001b[0m",
      "\u001b[0;31mValueError\u001b[0m                                Traceback (most recent call last)",
      "\u001b[0;32m<ipython-input-264-b393fe8a9e8c>\u001b[0m in \u001b[0;36m<module>\u001b[0;34m()\u001b[0m\n\u001b[0;32m----> 1\u001b[0;31m \u001b[0mfibonacci2\u001b[0m\u001b[0;34m(\u001b[0m\u001b[0;36m0\u001b[0m\u001b[0;34m)\u001b[0m\u001b[0;34m\u001b[0m\u001b[0m\n\u001b[0m",
      "\u001b[0;32m<ipython-input-263-efa71d373bb2>\u001b[0m in \u001b[0;36mfibonacci2\u001b[0;34m(n)\u001b[0m\n\u001b[1;32m      2\u001b[0m     \u001b[0;31m#Check if input is natural number or not\u001b[0m\u001b[0;34m\u001b[0m\u001b[0;34m\u001b[0m\u001b[0m\n\u001b[1;32m      3\u001b[0m     \u001b[0;32mif\u001b[0m \u001b[0mn\u001b[0m\u001b[0;34m<=\u001b[0m\u001b[0;36m0\u001b[0m \u001b[0;32mor\u001b[0m \u001b[0;32mnot\u001b[0m \u001b[0misinstance\u001b[0m\u001b[0;34m(\u001b[0m\u001b[0mn\u001b[0m\u001b[0;34m,\u001b[0m \u001b[0mint\u001b[0m\u001b[0;34m)\u001b[0m\u001b[0;34m:\u001b[0m\u001b[0;34m\u001b[0m\u001b[0m\n\u001b[0;32m----> 4\u001b[0;31m         \u001b[0;32mraise\u001b[0m \u001b[0mValueError\u001b[0m\u001b[0;34m(\u001b[0m\u001b[0;34m'Invalid input: n must be a natural number'\u001b[0m\u001b[0;34m)\u001b[0m\u001b[0;34m\u001b[0m\u001b[0m\n\u001b[0m\u001b[1;32m      5\u001b[0m \u001b[0;34m\u001b[0m\u001b[0m\n\u001b[1;32m      6\u001b[0m \u001b[0;34m\u001b[0m\u001b[0m\n",
      "\u001b[0;31mValueError\u001b[0m: Invalid input: n must be a natural number"
     ]
    }
   ],
   "source": [
    "fibonacci2(0)"
   ]
  },
  {
   "cell_type": "code",
   "execution_count": 265,
   "metadata": {},
   "outputs": [
    {
     "ename": "ValueError",
     "evalue": "Invalid input: n must be a natural number",
     "output_type": "error",
     "traceback": [
      "\u001b[0;31m---------------------------------------------------------------------------\u001b[0m",
      "\u001b[0;31mValueError\u001b[0m                                Traceback (most recent call last)",
      "\u001b[0;32m<ipython-input-265-e4a6d6ccac06>\u001b[0m in \u001b[0;36m<module>\u001b[0;34m()\u001b[0m\n\u001b[0;32m----> 1\u001b[0;31m \u001b[0mfibonacci2\u001b[0m\u001b[0;34m(\u001b[0m\u001b[0;36m1.1\u001b[0m\u001b[0;34m)\u001b[0m\u001b[0;34m\u001b[0m\u001b[0m\n\u001b[0m",
      "\u001b[0;32m<ipython-input-263-efa71d373bb2>\u001b[0m in \u001b[0;36mfibonacci2\u001b[0;34m(n)\u001b[0m\n\u001b[1;32m      2\u001b[0m     \u001b[0;31m#Check if input is natural number or not\u001b[0m\u001b[0;34m\u001b[0m\u001b[0;34m\u001b[0m\u001b[0m\n\u001b[1;32m      3\u001b[0m     \u001b[0;32mif\u001b[0m \u001b[0mn\u001b[0m\u001b[0;34m<=\u001b[0m\u001b[0;36m0\u001b[0m \u001b[0;32mor\u001b[0m \u001b[0;32mnot\u001b[0m \u001b[0misinstance\u001b[0m\u001b[0;34m(\u001b[0m\u001b[0mn\u001b[0m\u001b[0;34m,\u001b[0m \u001b[0mint\u001b[0m\u001b[0;34m)\u001b[0m\u001b[0;34m:\u001b[0m\u001b[0;34m\u001b[0m\u001b[0m\n\u001b[0;32m----> 4\u001b[0;31m         \u001b[0;32mraise\u001b[0m \u001b[0mValueError\u001b[0m\u001b[0;34m(\u001b[0m\u001b[0;34m'Invalid input: n must be a natural number'\u001b[0m\u001b[0;34m)\u001b[0m\u001b[0;34m\u001b[0m\u001b[0m\n\u001b[0m\u001b[1;32m      5\u001b[0m \u001b[0;34m\u001b[0m\u001b[0m\n\u001b[1;32m      6\u001b[0m \u001b[0;34m\u001b[0m\u001b[0m\n",
      "\u001b[0;31mValueError\u001b[0m: Invalid input: n must be a natural number"
     ]
    }
   ],
   "source": [
    "fibonacci2(1.1)"
   ]
  },
  {
   "cell_type": "code",
   "execution_count": 300,
   "metadata": {},
   "outputs": [
    {
     "name": "stdout",
     "output_type": "stream",
     "text": [
      "4th Fibonacci number is =  3\n",
      "1st Fibonacci number is =  1\n",
      "10th Fibonacci number is =  55\n"
     ]
    }
   ],
   "source": [
    "print(\"4th Fibonacci number is = \", fibonacci2(4))\n",
    "print(\"1st Fibonacci number is = \", fibonacci2(2))\n",
    "print(\"10th Fibonacci number is = \", fibonacci2(10))"
   ]
  },
  {
   "cell_type": "code",
   "execution_count": 301,
   "metadata": {
    "scrolled": true
   },
   "outputs": [
    {
     "name": "stdout",
     "output_type": "stream",
     "text": [
      "237 ns ± 1.06 ns per loop (mean ± std. dev. of 7 runs, 1000000 loops each)\n"
     ]
    }
   ],
   "source": [
    "#Time taken for execution\n",
    "%timeit fibonacci2(2)"
   ]
  },
  {
   "cell_type": "code",
   "execution_count": 302,
   "metadata": {},
   "outputs": [
    {
     "name": "stdout",
     "output_type": "stream",
     "text": [
      "27.3 µs ± 82.2 ns per loop (mean ± std. dev. of 7 runs, 10000 loops each)\n"
     ]
    }
   ],
   "source": [
    "%timeit fibonacci2(10)"
   ]
  },
  {
   "cell_type": "markdown",
   "metadata": {},
   "source": [
    "#### Q 1.1.4\n",
    "What's the complexity of your implementation?"
   ]
  },
  {
   "cell_type": "markdown",
   "metadata": {},
   "source": [
    "The complexity of $fibonacci2(n)$ is:\n",
    "\n",
    "for n<=1 it is $O(1)$\n",
    "\n",
    "for n>1 it is $t(n) = t(n-1) + t(n-2) + O(1)$\n",
    "\n",
    "lets take $t(n) = a^n$\n",
    "\n",
    "$a^n = a^{n-1} + a^{n-2} + O(1)$\n",
    "\n",
    "~ $a^n = a^{n-1} + a^{n-2}$\n",
    "\n",
    "deviding LHS and RHS by $a^{n-2}$\n",
    "\n",
    "$a^2 = a + 1$\n",
    "\n",
    "$a^2 - a - 1 = 0$ is the Charecteristic equation\n",
    "\n",
    "From code below, we get, a1 = 1.618033988749895 and \n",
    "a2 = -0.6180339887498949\n",
    "\n",
    "By dropping the lower bound, we can write it as:\n",
    "\n",
    "Complexity t(n) = $O(1.618033988749895)^n$"
   ]
  },
  {
   "cell_type": "code",
   "execution_count": 85,
   "metadata": {},
   "outputs": [],
   "source": [
    "import math\n",
    "def solve(a,b,c):\n",
    "    # input : coefficients of algebraic terms\n",
    "    # output : roots of quadratic equation\n",
    "    \n",
    "    d = b**2-4*a*c\n",
    "    x_plus = (-b + math.sqrt(d)) / (2 * a)\n",
    "    x_minus = (-b - math.sqrt(d)) / (2*1)\n",
    "    #print(x_plus,x_minus)\n",
    "    return (x_plus,x_minus)\n"
   ]
  },
  {
   "cell_type": "code",
   "execution_count": 86,
   "metadata": {},
   "outputs": [],
   "source": [
    "x_plus,x_minus = solve(1,-1,-1)"
   ]
  },
  {
   "cell_type": "code",
   "execution_count": 87,
   "metadata": {},
   "outputs": [
    {
     "name": "stdout",
     "output_type": "stream",
     "text": [
      "solution 1 =  1.618033988749895\n",
      "solution 2 =  -0.6180339887498949\n"
     ]
    }
   ],
   "source": [
    "print(\"solution 1 = \",x_plus)\n",
    "print(\"solution 2 = \",x_minus)"
   ]
  },
  {
   "cell_type": "markdown",
   "metadata": {},
   "source": [
    "#### Q 1.1.5\n",
    "What are some examples of optimizations that could improve computational performance?\n"
   ]
  },
  {
   "cell_type": "markdown",
   "metadata": {},
   "source": [
    "## Basic Empirical Analysis:"
   ]
  },
  {
   "cell_type": "code",
   "execution_count": 311,
   "metadata": {},
   "outputs": [],
   "source": [
    "import time\n",
    "n_list = [1,3,5,10,20,30,35]\n",
    "length_n_list = len(n_list)\n",
    "fun = [fibonacci, fibonacci2]\n",
    "time_dict = {0: [0]*length_n_list, 1:[0]*length_n_list}\n",
    "                       \n",
    "for f in range(2): \n",
    "    for ith,n in enumerate(n_list):\n",
    "#         print(n)\n",
    "        start = time.time()\n",
    "        x = fun[f](n)\n",
    "        end = time.time()\n",
    "        time_dict[f][ith] = end - start\n",
    "        \n",
    "    "
   ]
  },
  {
   "cell_type": "code",
   "execution_count": 314,
   "metadata": {},
   "outputs": [
    {
     "data": {
      "image/png": "[encoded data removed]",
      "text/plain": [
       "<Figure size 432x288 with 1 Axes>"
      ]
     },
     "metadata": {},
     "output_type": "display_data"
    }
   ],
   "source": [
    "import matplotlib.pyplot as plt\n",
    "plt.plot(np.log(time_dict[0]),label = \"fibonacci(n)\")\n",
    "plt.plot(np.log(time_dict[1]), label = \"fibonacci2(n)\")\n",
    "plt.xlabel(\"value of n\")\n",
    "plt.ylabel(\"Log of time taken for execution\")\n",
    "plt.xticks(np.arange(length_n_list),n_list)\n",
    "plt.legend()\n",
    "plt.show()"
   ]
  },
  {
   "cell_type": "markdown",
   "metadata": {},
   "source": [
    "Conclusion: As we can see that for smaller n, fibonacci(n) and fibonacco2(n) returns the value in almost same time but for larger n, fibonacci(n) is much faster than fibonacci2(n) as first one gets executed in linear time where as second one with recursion is expenential. "
   ]
  },
  {
   "cell_type": "markdown",
   "metadata": {},
   "source": [
    "#### Few Optimizations: First function fibonacci(n) is most efficient one, so, based on that -\n",
    "1. Avoid functions with Recursion if linear solution exists (empirical results shown above)\n",
    "2. Use just 2 random variables to store previous two values rather than using array or list to store all previous values which is unneccessary. Because using array or list consumes time to allocate memory and assign values\n",
    "3. If asked to return Fibonacci series rather than List, using arrays rather than list is recommended. The reson is that list allocate if used with method append() allocates memory non sequentially and hence time involved in memory fetch and storing next non sequential address\n",
    "\n",
    "4. If using lists is unavoidable and length of list is known in advance, its highly recommended to allocate memory sequentially with initial value of 0 or -1 and then use indexing to correct assign values.(as shown in Basic Empirical Analysis code snippet)\n",
    "\n",
    "5. Documenting the code is very important as it results in reusability and easy understanding"
   ]
  },
  {
   "cell_type": "markdown",
   "metadata": {},
   "source": [
    "### Q 1.2: Linked List\n",
    "![ll img](https://upload.wikimedia.org/wikipedia/commons/thumb/6/6d/Singly-linked-list.svg/500px-Singly-linked-list.svg.png)"
   ]
  },
  {
   "cell_type": "markdown",
   "metadata": {},
   "source": [
    "#### Q 1.2.1\n",
    "Consider a [singly linked list](https://en.wikipedia.org/wiki/Linked_list), $L$. Write a function `is_palindrome(L)` that detects if $L$ is a [palindrome](https://en.wikipedia.org/wiki/Palindrome), by returning a bool, `True` or `False`.\n"
   ]
  },
  {
   "cell_type": "markdown",
   "metadata": {},
   "source": [
    "#### Q 1.2.2\n",
    "What is the complexity of your implementation?"
   ]
  },
  {
   "cell_type": "markdown",
   "metadata": {},
   "source": [
    "#### Q 1.2.3\n",
    "Consider an alternative implementation to detect if L is a palindrome and write a new function, `is_palindrome2(L)`."
   ]
  },
  {
   "cell_type": "markdown",
   "metadata": {},
   "source": [
    "#### Q 1.2.4\n",
    "What's the complexity of this implementation?\n"
   ]
  },
  {
   "cell_type": "markdown",
   "metadata": {},
   "source": [
    "#### Q 1.2.5 \n",
    "What are some examples of optimizations that could improve computational performance?\n"
   ]
  },
  {
   "cell_type": "markdown",
   "metadata": {},
   "source": [
    "## 2. Prob + Stats"
   ]
  },
  {
   "cell_type": "markdown",
   "metadata": {},
   "source": [
    "### Q 2.1: Finding $\\pi$ in a random uniform?\n",
    "![pi pie img](http://core2.staticworld.net/images/article/2016/03/pi-day-intro-100649273-carousel.idge.jpeg)\n",
    "\n",
    "Given a uniform random generator $[0,1)$ (e.g., use your language's standard libary to generate random value), write a a function `compute_pi` to compute [$\\pi$](https://en.wikipedia.org/wiki/Pi)."
   ]
  },
  {
   "cell_type": "markdown",
   "metadata": {},
   "source": [
    "Monte Carlo method could be used to compute the value of PI:\n",
    "\n",
    "Let's imagine a circle with radius = 1 units (in general it is r. In our case we are asked to make use of ramdon generator [0,1)) which is fit within a square of side = 2 units\n",
    "\n",
    "Area of Circle = $\\pi$\n",
    "\n",
    "Area of Square = $4$\n",
    "\n",
    "$\\frac{Area of Circle}{Area of Square} = \\frac{\\pi}{4}$\n",
    "\n",
    "Hence, $\\pi = \\frac{Area of Circle}{Area of Square}*4$\n",
    "\n",
    "Using Monte Carlo, we can simulate n number of points to estimate $\\frac{Area of Circle}{Area of Square}$. That is out of n randomly generated numbers, $\\frac{Area of Circle}{Area of Square}$ = $\\frac{number of points lie within a circ}{Number of points lie within the square}$ (Number of points lie within the square = Total number of points)\n",
    "\n",
    "$\\textbf{Empirically we are considering just 1/4th of the circle and 1/4th of square}$\n",
    "\n",
    "Since area of Circle is $x^2+y^2=r^2$, in our case r=1, for randomly genrated point (x,y), we say lies within circle if $x^2+y^2<1$, if point lies in first quadrant. And as x and y are uniform [0,1) all generated points lie within first quadrant of sqaure\n",
    "\n",
    "\n",
    "As number of randomly generated point increases (i.e as n tends to infinity), we get closer to actual value of $\\pi$"
   ]
  },
  {
   "cell_type": "code",
   "execution_count": 167,
   "metadata": {},
   "outputs": [],
   "source": [
    "from random import random\n",
    "#random()"
   ]
  },
  {
   "cell_type": "code",
   "execution_count": 152,
   "metadata": {},
   "outputs": [],
   "source": [
    "def compute_pi():\n",
    "    # input :  \n",
    "    # output : computed value of pi \n",
    "    \n",
    "    #initial count (number of points falling within circle) to zero\n",
    "    count = 0\n",
    "    for i in range(n):\n",
    "        x = random()\n",
    "        y = random()\n",
    "        #increment the count if it lies within the circle\n",
    "        if x**2+y**2<=1:\n",
    "            count+=1\n",
    "    return count*4/n\n",
    "    "
   ]
  },
  {
   "cell_type": "code",
   "execution_count": 157,
   "metadata": {},
   "outputs": [
    {
     "data": {
      "text/plain": [
       "3.14438"
      ]
     },
     "execution_count": 157,
     "metadata": {},
     "output_type": "execute_result"
    }
   ],
   "source": [
    "n=1000000\n",
    "compute_pi()"
   ]
  },
  {
   "cell_type": "code",
   "execution_count": 166,
   "metadata": {},
   "outputs": [],
   "source": [
    "pi = []\n",
    "N = [10,100,1000,10000,100000,1000000,100000000]\n",
    "for n in N:\n",
    "    pi.append(compute_pi())"
   ]
  },
  {
   "cell_type": "code",
   "execution_count": 168,
   "metadata": {},
   "outputs": [
    {
     "data": {
      "text/html": [
       "<div>\n",
       "<style scoped>\n",
       "    .dataframe tbody tr th:only-of-type {\n",
       "        vertical-align: middle;\n",
       "    }\n",
       "\n",
       "    .dataframe tbody tr th {\n",
       "        vertical-align: top;\n",
       "    }\n",
       "\n",
       "    .dataframe thead th {\n",
       "        text-align: right;\n",
       "    }\n",
       "</style>\n",
       "<table border=\"1\" class=\"dataframe\">\n",
       "  <thead>\n",
       "    <tr style=\"text-align: right;\">\n",
       "      <th></th>\n",
       "      <th>number of random points</th>\n",
       "      <th>pi_value</th>\n",
       "    </tr>\n",
       "  </thead>\n",
       "  <tbody>\n",
       "    <tr>\n",
       "      <th>0</th>\n",
       "      <td>10</td>\n",
       "      <td>2.800000</td>\n",
       "    </tr>\n",
       "    <tr>\n",
       "      <th>1</th>\n",
       "      <td>100</td>\n",
       "      <td>3.040000</td>\n",
       "    </tr>\n",
       "    <tr>\n",
       "      <th>2</th>\n",
       "      <td>1000</td>\n",
       "      <td>3.160000</td>\n",
       "    </tr>\n",
       "    <tr>\n",
       "      <th>3</th>\n",
       "      <td>10000</td>\n",
       "      <td>3.147200</td>\n",
       "    </tr>\n",
       "    <tr>\n",
       "      <th>4</th>\n",
       "      <td>100000</td>\n",
       "      <td>3.141040</td>\n",
       "    </tr>\n",
       "    <tr>\n",
       "      <th>5</th>\n",
       "      <td>1000000</td>\n",
       "      <td>3.143820</td>\n",
       "    </tr>\n",
       "    <tr>\n",
       "      <th>6</th>\n",
       "      <td>100000000</td>\n",
       "      <td>3.141197</td>\n",
       "    </tr>\n",
       "  </tbody>\n",
       "</table>\n",
       "</div>"
      ],
      "text/plain": [
       "   number of random points  pi_value\n",
       "0                       10  2.800000\n",
       "1                      100  3.040000\n",
       "2                     1000  3.160000\n",
       "3                    10000  3.147200\n",
       "4                   100000  3.141040\n",
       "5                  1000000  3.143820\n",
       "6                100000000  3.141197"
      ]
     },
     "execution_count": 168,
     "metadata": {},
     "output_type": "execute_result"
    }
   ],
   "source": [
    "import pandas as pd\n",
    "pi_df = pd.DataFrame()\n",
    "pi_df[\"number of random points\"] = N\n",
    "pi_df[\"pi_value\"] = pi\n",
    "pi_df"
   ]
  },
  {
   "cell_type": "markdown",
   "metadata": {},
   "source": [
    "# Attempt to answer most of the question in Probability part is made because of availability of plenty of time. Please have a look"
   ]
  },
  {
   "cell_type": "markdown",
   "metadata": {},
   "source": [
    "### Q 2.2: Making a 6-side die roll a 7?\n",
    "\n",
    "![reno die image](http://thumbs.ebaystatic.com/images/g/IQ8AAOSwvzRXyagD/s-l225.jpg)\n",
    "\n",
    "Using a single 6-side die, how can you generate a random number between 1 - 7?"
   ]
  },
  {
   "cell_type": "markdown",
   "metadata": {},
   "source": [
    "## Optional\n",
    "\n",
    "Assumption : I am asked to generate descrete integers randomply between 1 to 7 (as question doesnt specify whether descreet or continuous)\n",
    "\n",
    "Lets roll dice once = X1  => X1 $\\epsilon ${1,2,3,4,5,6}\n",
    "Lets role dice second time = X2 $\\epsilon ${1,2,3,4,5,6}\n",
    "\n",
    "Multiply X1 by 6, which ranges from 6 to 36\n",
    "Lets add X2 to it.\n",
    "\n",
    "Taking modelo 7 of about value gives an integer between 0 to 6, we can add 1 to it to get integer between 1 and 7.\n",
    "\n",
    "Y = (($X_1$*6 + $X_2$)%7)+1\n",
    "\n",
    "But, lets look closely.\n",
    "\n",
    "Y = 1 if (X1,X2) = (1,1),(2,2),(3,3),(4,4),(5,5),(6,6)\n",
    "\n",
    "Y = 2 if (X1,X2) = (1,2),(2,3),(3,4),(4,5),(5,6)\n",
    "\n",
    "Y = 3 if (X1,X2) = (1,3),(2,4),(3,5),(4,6),(6,1)\n",
    "\n",
    "Y = 4 if (X1,X2) = (1,4),(2,5),(3,6),(5,1),(6,2)\n",
    "\n",
    "Y = 5 if (X1,X2) = (1,5),(2,6),(4,1),(5,2),(6,3)\n",
    "\n",
    "Y = 6 if (X1,X2) = (1,6),(3,1),(3,2),(3,3),(3,4)\n",
    "\n",
    "Y = 7 if (X1,X2) = (2,1),(3,2),(4,3),(5,4),(6,5)\n",
    "\n",
    "Hence we can see that probability of Y = 1 is higher than the rest. Hence one of the  (1,1),(2,2),(3,3),(4,4),(5,5),(6,6) combination should be ignored. I am ignoring (6,6)"
   ]
  },
  {
   "cell_type": "code",
   "execution_count": 209,
   "metadata": {},
   "outputs": [],
   "source": [
    "def random_1to7():\n",
    "    # input :\n",
    "    # output : random varaible betwen 1 and 7\n",
    "    \n",
    "    #generate two random variables\n",
    "    x = np.random.randint(1,6)\n",
    "    y = np.random.randint(1,6)\n",
    "    \n",
    "    #if both of them are 6, repeat the process\n",
    "    if x==6 and y==6:\n",
    "        random_1to7()\n",
    "    #return a new random variable between 1 and 7\n",
    "    return ((x*6+y)%7)+1"
   ]
  },
  {
   "cell_type": "code",
   "execution_count": 211,
   "metadata": {},
   "outputs": [
    {
     "name": "stdout",
     "output_type": "stream",
     "text": [
      "generated random number between 1 and 7: \n",
      "2\n",
      "1\n",
      "4\n",
      "6\n",
      "4\n",
      "6\n",
      "4\n",
      "3\n",
      "4\n",
      "4\n"
     ]
    }
   ],
   "source": [
    "print(\"generated random number between 1 and 7: \")\n",
    "for i in range(10):\n",
    "    print(random_1to7())"
   ]
  },
  {
   "cell_type": "markdown",
   "metadata": {},
   "source": [
    "### Q 2.3: Is normality uniform?\n",
    "\n",
    "![normal and uniform distributions](https://qph.ec.quoracdn.net/main-qimg-f6ed71ed1d0059760fb63db384dcbcca-c)\n",
    "\n",
    "Given draws from a normal distribution with known parameters, how can you simulate draws from a uniform distribution?"
   ]
  },
  {
   "cell_type": "markdown",
   "metadata": {},
   "source": [
    "## Optional\n",
    "\n",
    "Let X be the normally distributed random variable with mean $\\sum$ and standard deviation of $\\sigma$ \n",
    "\n",
    "Uniform random variable U can be easily generated by using CDF of X\n",
    "\n",
    "i.e u $\\epsilon$ U = CDF(x $\\epsilon X$)\n",
    "\n",
    "u = $\\frac{1}{\\sigma \\sqrt{2\\pi}}$ $\\int_{-\\inf}^{x} e^{-\\frac{(x-\\mu)^2}{2\\sigma^2}} dx$"
   ]
  },
  {
   "cell_type": "markdown",
   "metadata": {},
   "source": [
    "### Q 2.4: Should you pay or should you go?\n",
    "\n",
    "![coin flip](https://lh5.ggpht.com/iwD6MnHeHVAXNBgrO7r4N9MQxxYi6wT9vb0Mqu905zTnNlBciONAA98BqafyjzC06Q=w300)\n",
    "\n",
    "Let’s say we play a game where I keep flipping a coin until I get heads. If the first time I get heads is on the nth coin, then I pay you $2^{(n-1)}$ US dollars. How much would you pay me to play this game? Explain."
   ]
  },
  {
   "cell_type": "markdown",
   "metadata": {},
   "source": [
    "## Optional\n",
    "\n",
    "Lets calculate the expected gain:\n",
    "\n",
    "\n",
    "E(gain) = $\\sum_{n=1}^\\inf 2^{n-1} * $ p(getting head in nth toss)\n",
    "\n",
    "p(getting head in nth toss) is Geometric random variable\n",
    "\n",
    "E(gain) = $\\sum_{n=1}^\\inf 2^{n-1} * p(head) * p(1-head)^{n-1}$\n",
    "\n",
    "Assumption : Coin is unbiased => p(head) = 1/2\n",
    "\n",
    "E(gain) = $\\sum_{n=1}^\\inf 2^{n-1-1-(n+1)}$\n",
    "\n",
    "E(gain) = $\\sum_{n=1}^\\inf * 0.5$ \n",
    "\n",
    "E(gain) = infinity\n",
    "\n",
    "Theoritically the expected gain is infinity but since I'll be playing the game only once, it may be bounded. So, depending on how much money I pocess, accordingly I'll have to pay\n",
    "\n",
    "Borrowed from Google : https://en.wikipedia.org/wiki/St._Petersburg_paradox\n",
    "\n",
    "According to the above article : \"For example, with natural log utility, a millionaire (1,000,000 USD) should be willing to pay up to $20.88, a person with 1,000 USD should pay up to 10.95 USD, a person with 2 USD should borrow 1.35 USD and pay up to 3.35 USD.\""
   ]
  },
  {
   "cell_type": "markdown",
   "metadata": {},
   "source": [
    "### Q 2.5: Uber vs. Lyft\n",
    "\n",
    "![uber vs lyft](http://usiaffinity.typepad.com/.a/6a01347fc1cb08970c01bb0876bcbe970d-pi)\n",
    "\n",
    "You request 2 UberX’s and 3 Lyfts. If the time that each takes to reach you is IID, what is the probability that all the Lyfts arrive first? What is the probability that all the UberX’s arrive first?"
   ]
  },
  {
   "cell_type": "markdown",
   "metadata": {},
   "source": [
    "## Just Giving a try:\n",
    "\n",
    "Let the random variable to represent waiting time be T which could be taken as a Exponential RV with parameter $\\lambda$\n",
    "\n",
    "1. probability that all the Lyfts arrive first\n",
    "\n",
    "    a. Maximum time taken by the Lift is less than Minimum time taken by the Uber. Calculate PDF(Max(PDF(Lift))) and PDF(min(PDF(Uber))) which are two new random Variables X and Y respectively.\n",
    "    b. Calculate P(X<Y) or P(Y-X>0)\n",
    "    \n",
    "    \n",
    "2. probability that all the UberX’s arrive first\n",
    "\n",
    "    a. Minimum time taken by Uber is less than Maximum time taken by the Lift. Calculate PDF( Max( PDF( Min(Uber ) ) ) and PDF( Min (PDF (Lift ) ) ) which are two random variables X and Y\n",
    "    b. Calculate P(X<Y) or P(Y-X>0)"
   ]
  },
  {
   "cell_type": "code",
   "execution_count": null,
   "metadata": {},
   "outputs": [],
   "source": []
  }
 ],
 "metadata": {
  "kernelspec": {
   "display_name": "Python 3",
   "language": "python",
   "name": "python3"
  },
  "language_info": {
   "codemirror_mode": {
    "name": "ipython",
    "version": 3
   },
   "file_extension": ".py",
   "mimetype": "text/x-python",
   "name": "python",
   "nbconvert_exporter": "python",
   "pygments_lexer": "ipython3",
   "version": "3.5.3"
  }
 },
 "nbformat": 4,
 "nbformat_minor": 1
}
